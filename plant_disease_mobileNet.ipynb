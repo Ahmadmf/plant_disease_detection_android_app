{
  "nbformat": 4,
  "nbformat_minor": 0,
  "metadata": {
    "colab": {
      "name": "plant_disease_mobileNet.ipynb",
      "provenance": [],
      "collapsed_sections": [],
      "include_colab_link": true
    },
    "kernelspec": {
      "name": "python3",
      "display_name": "Python 3"
    },
    "accelerator": "GPU"
  },
  "cells": [
    {
      "cell_type": "markdown",
      "metadata": {
        "id": "view-in-github",
        "colab_type": "text"
      },
      "source": [
        "<a href=\"https://colab.research.google.com/github/rehman0211/android_plant_disease_detection/blob/master/plant_disease_mobileNet.ipynb\" target=\"_parent\"><img src=\"https://colab.research.google.com/assets/colab-badge.svg\" alt=\"Open In Colab\"/></a>"
      ]
    },
    {
      "cell_type": "code",
      "metadata": {
        "id": "SOaUi95xH0xT",
        "colab_type": "code",
        "colab": {
          "base_uri": "https://localhost:8080/",
          "height": 34
        },
        "outputId": "5d1137ad-23c3-4cd7-af8a-a3ca53a88028"
      },
      "source": [
        "from __future__ import absolute_import,division,print_function\n",
        "import tensorflow as tf\n",
        "from tensorflow import keras\n",
        "from tensorflow.keras import layers\n",
        "from tensorflow.keras.preprocessing.image import ImageDataGenerator\n",
        "import tensorflow_hub as hub\n",
        "tf.logging.set_verbosity(tf.logging.ERROR)\n",
        "\n",
        "import pandas as pd\n",
        "import numpy as np\n",
        "import os\n",
        "import glob\n",
        "import shutil\n",
        "\n",
        "print(tf.__version__)"
      ],
      "execution_count": 5,
      "outputs": [
        {
          "output_type": "stream",
          "text": [
            "1.14.0\n"
          ],
          "name": "stdout"
        }
      ]
    },
    {
      "cell_type": "code",
      "metadata": {
        "id": "LiXe1F3NDX-I",
        "colab_type": "code",
        "colab": {}
      },
      "source": [
        ""
      ],
      "execution_count": 0,
      "outputs": []
    },
    {
      "cell_type": "code",
      "metadata": {
        "id": "sxhyi5a_H6Jw",
        "colab_type": "code",
        "outputId": "f6f3f659-c85e-476e-a498-ccf1eb1aea5a",
        "colab": {
          "base_uri": "https://localhost:8080/",
          "height": 34
        }
      },
      "source": [
        " !git clone https://github.com/rehman0211/android_plant_disease_detection"
      ],
      "execution_count": 13,
      "outputs": [
        {
          "output_type": "stream",
          "text": [
            "fatal: destination path 'android_plant_disease_detection' already exists and is not an empty directory.\n"
          ],
          "name": "stdout"
        }
      ]
    },
    {
      "cell_type": "code",
      "metadata": {
        "id": "2toOpLDOJ4vR",
        "colab_type": "code",
        "colab": {}
      },
      "source": [
        "project_dir = os.listdir('/content/android_plant_disease_detection/color')"
      ],
      "execution_count": 0,
      "outputs": []
    },
    {
      "cell_type": "code",
      "metadata": {
        "id": "9FwvfVEeSoyi",
        "colab_type": "code",
        "colab": {
          "base_uri": "https://localhost:8080/",
          "height": 34
        },
        "outputId": "128dc6c6-49d1-4722-99ca-b5dae442527f"
      },
      "source": [
        "len(project_dir)"
      ],
      "execution_count": 15,
      "outputs": [
        {
          "output_type": "execute_result",
          "data": {
            "text/plain": [
              "40"
            ]
          },
          "metadata": {
            "tags": []
          },
          "execution_count": 15
        }
      ]
    },
    {
      "cell_type": "code",
      "metadata": {
        "id": "_MXRIWJwGutJ",
        "colab_type": "code",
        "colab": {}
      },
      "source": [
        "project_path = '/content/android_plant_disease_detection/color'"
      ],
      "execution_count": 0,
      "outputs": []
    },
    {
      "cell_type": "code",
      "metadata": {
        "id": "bVNovnIkoI05",
        "colab_type": "code",
        "colab": {}
      },
      "source": [
        "classes=['Apple___Apple_scab','Apple___Black_rot','Apple___Cedar_apple_rust','Apple___healthy','Blueberry___healthy','Cherry_(including_sour)___Powdery_mildew','Cherry_(including_sour)___healthy','Corn_(maize)___Cercospora_leaf_spot Gray_leaf_spot','Corn_(maize)___Common_rust_','Corn_(maize)___Northern_Leaf_Blight','Corn_(maize)___healthy','Grape___Black_rot','Grape___Esca_(Black_Measles)','Grape___Leaf_blight_(Isariopsis_Leaf_Spot)','Grape___healthy','Orange___Haunglongbing_(Citrus_greening)','Peach___Bacterial_spot','Peach___healthy','Pepper,_bell___Bacterial_spot','Pepper,_bell___healthy','Potato___Early_blight','Potato___Late_blight','Potato___healthy','Raspberry___healthy','Soybean___healthy','Squash___Powdery_mildew','Strawberry___Leaf_scorch','Strawberry___healthy','Tomato___Bacterial_spot','Tomato___Early_blight','Tomato___Late_blight','Tomato___Leaf_Mold','Tomato___Septoria_leaf_spot','/content/color/Tomato___Spider_mites Two-spotted_spider_mite','Tomato___Target_Spot','Tomato___Tomato_Yellow_Leaf_Curl_Virus','Tomato___Spider_mites Two-spotted_spider_mite','Tomato___Tomato_mosaic_virus','Tomato___healthy']"
      ],
      "execution_count": 0,
      "outputs": []
    },
    {
      "cell_type": "code",
      "metadata": {
        "id": "48vl6VI0i1MO",
        "colab_type": "code",
        "colab": {
          "base_uri": "https://localhost:8080/",
          "height": 680
        },
        "outputId": "335f4a5c-2920-45ff-815f-7ef9dc1afb72"
      },
      "source": [
        "for cl in classes:\n",
        "  #img_path = os.path.join(project_dir, cl)\n",
        "  images = glob.glob('/content/android_plant_disease_detection/color'+'/'+cl+'/*.JPG')\n",
        "  print(\"{}: {} Images\".format(cl, len(images)))\n",
        "  train, val = images[:round(len(images)*0.8)], images[round(len(images)*0.8):]\n",
        "\n",
        "  for t in train:\n",
        "    if not os.path.exists(os.path.join(project_path, 'train', cl)):\n",
        "      os.makedirs(os.path.join(project_path, 'train', cl))\n",
        "    shutil.move(t, os.path.join(project_path, 'train', cl))\n",
        "\n",
        "  for v in val:\n",
        "    if not os.path.exists(os.path.join(project_path, 'val', cl)):\n",
        "      os.makedirs(os.path.join(project_path, 'val', cl))\n",
        "    shutil.move(v, os.path.join(project_path, 'val', cl))"
      ],
      "execution_count": 11,
      "outputs": [
        {
          "output_type": "stream",
          "text": [
            "Apple___Apple_scab: 630 Images\n",
            "Apple___Black_rot: 621 Images\n",
            "Apple___Cedar_apple_rust: 275 Images\n",
            "Apple___healthy: 1645 Images\n",
            "Blueberry___healthy: 1502 Images\n",
            "Cherry_(including_sour)___Powdery_mildew: 1052 Images\n",
            "Cherry_(including_sour)___healthy: 854 Images\n",
            "Corn_(maize)___Cercospora_leaf_spot Gray_leaf_spot: 446 Images\n",
            "Corn_(maize)___Common_rust_: 1192 Images\n",
            "Corn_(maize)___Northern_Leaf_Blight: 870 Images\n",
            "Corn_(maize)___healthy: 21 Images\n",
            "Grape___Black_rot: 1180 Images\n",
            "Grape___Esca_(Black_Measles): 1383 Images\n",
            "Grape___Leaf_blight_(Isariopsis_Leaf_Spot): 1076 Images\n",
            "Grape___healthy: 423 Images\n",
            "Orange___Haunglongbing_(Citrus_greening): 5507 Images\n",
            "Peach___Bacterial_spot: 2297 Images\n",
            "Peach___healthy: 360 Images\n",
            "Pepper,_bell___Bacterial_spot: 997 Images\n",
            "Pepper,_bell___healthy: 1476 Images\n",
            "Potato___Early_blight: 1000 Images\n",
            "Potato___Late_blight: 1000 Images\n",
            "Potato___healthy: 152 Images\n",
            "Raspberry___healthy: 371 Images\n",
            "Soybean___healthy: 5090 Images\n",
            "Squash___Powdery_mildew: 1813 Images\n",
            "Strawberry___Leaf_scorch: 1108 Images\n",
            "Strawberry___healthy: 456 Images\n",
            "Tomato___Bacterial_spot: 2127 Images\n",
            "Tomato___Early_blight: 1000 Images\n",
            "Tomato___Late_blight: 1756 Images\n",
            "Tomato___Leaf_Mold: 952 Images\n",
            "Tomato___Septoria_leaf_spot: 1771 Images\n",
            "/content/color/Tomato___Spider_mites Two-spotted_spider_mite: 0 Images\n",
            "Tomato___Target_Spot: 1404 Images\n",
            "Tomato___Tomato_Yellow_Leaf_Curl_Virus: 5357 Images\n",
            "Tomato___Spider_mites Two-spotted_spider_mite: 1676 Images\n",
            "Tomato___Tomato_mosaic_virus: 373 Images\n",
            "Tomato___healthy: 1590 Images\n"
          ],
          "name": "stdout"
        }
      ]
    },
    {
      "cell_type": "code",
      "metadata": {
        "id": "4MEetPNGQY0M",
        "colab_type": "code",
        "colab": {}
      },
      "source": [
        "train_dir = os.listdir('/content/android_plant_disease_detection/color/train')\n",
        "val_dir = os.listdir('/content/android_plant_disease_detection/color/val')"
      ],
      "execution_count": 0,
      "outputs": []
    },
    {
      "cell_type": "code",
      "metadata": {
        "id": "bsWagzYDi4CE",
        "colab_type": "code",
        "colab": {
          "base_uri": "https://localhost:8080/",
          "height": 34
        },
        "outputId": "903c950c-cd84-4969-e9a7-d468db9c6ef0"
      },
      "source": [
        "len(train_dir)\n",
        "len(val_dir)"
      ],
      "execution_count": 16,
      "outputs": [
        {
          "output_type": "execute_result",
          "data": {
            "text/plain": [
              "38"
            ]
          },
          "metadata": {
            "tags": []
          },
          "execution_count": 16
        }
      ]
    },
    {
      "cell_type": "code",
      "metadata": {
        "id": "Bi27NIFryYxA",
        "colab_type": "code",
        "colab": {}
      },
      "source": [
        "total_train = len(train_dir)\n",
        "total_validation = len(val_dir)"
      ],
      "execution_count": 0,
      "outputs": []
    },
    {
      "cell_type": "code",
      "metadata": {
        "id": "LnKb3975ONGb",
        "colab_type": "code",
        "colab": {}
      },
      "source": [
        "IMG_SHAPE = 224\n",
        "BATCH_SIZE = 32\n"
      ],
      "execution_count": 0,
      "outputs": []
    },
    {
      "cell_type": "code",
      "metadata": {
        "id": "koDuf9WfmllP",
        "colab_type": "code",
        "colab": {}
      },
      "source": [
        "#rescale the values form 0 to 255 into 0 to 1\n",
        "train_image_generator = ImageDataGenerator(rescale=1./255) \n",
        "validation_image_generator = ImageDataGenerator(rescale=1./255) "
      ],
      "execution_count": 0,
      "outputs": []
    },
    {
      "cell_type": "code",
      "metadata": {
        "id": "qGB8VJUomwbn",
        "colab_type": "code",
        "colab": {
          "base_uri": "https://localhost:8080/",
          "height": 34
        },
        "outputId": "afce6e82-c331-4603-d347-2f7d4473f6b2"
      },
      "source": [
        "train_data_gen = train_image_generator.flow_from_directory(batch_size = BATCH_SIZE,\n",
        "                                                          directory='/content/android_plant_disease_detection/color/train',\n",
        "                                                          shuffle = True,#for randomly getting the data, not to learn the Sequence\n",
        "                                                          target_size = (IMG_SHAPE,IMG_SHAPE), #(150,150)\n",
        "                                                          class_mode='binary')"
      ],
      "execution_count": 20,
      "outputs": [
        {
          "output_type": "stream",
          "text": [
            "Found 42246 images belonging to 38 classes.\n"
          ],
          "name": "stdout"
        }
      ]
    },
    {
      "cell_type": "code",
      "metadata": {
        "id": "mPlsi15Pohcd",
        "colab_type": "code",
        "colab": {
          "base_uri": "https://localhost:8080/",
          "height": 34
        },
        "outputId": "88aadb46-a5f0-4e41-dbce-7fe59b921c5f"
      },
      "source": [
        "val_data_gen = validation_image_generator.flow_from_directory(batch_size = BATCH_SIZE,\n",
        "                                                          directory='/content/android_plant_disease_detection/color/val',\n",
        "                                                          shuffle = False,#for randomly getting the data, not to learn the Sequence\n",
        "                                                          target_size = (IMG_SHAPE,IMG_SHAPE), #(256,256)\n",
        "                                                          class_mode='binary')"
      ],
      "execution_count": 21,
      "outputs": [
        {
          "output_type": "stream",
          "text": [
            "Found 10557 images belonging to 38 classes.\n"
          ],
          "name": "stdout"
        }
      ]
    },
    {
      "cell_type": "code",
      "metadata": {
        "id": "I-VeLu8so0Ia",
        "colab_type": "code",
        "colab": {
          "base_uri": "https://localhost:8080/",
          "height": 34
        },
        "outputId": "fefd3ddb-a999-472e-fb9c-0dded66667e7"
      },
      "source": [
        "train_dir[0]"
      ],
      "execution_count": 22,
      "outputs": [
        {
          "output_type": "execute_result",
          "data": {
            "text/plain": [
              "'Potato___Late_blight'"
            ]
          },
          "metadata": {
            "tags": []
          },
          "execution_count": 22
        }
      ]
    },
    {
      "cell_type": "code",
      "metadata": {
        "id": "pj0P2RDoPsRu",
        "colab_type": "code",
        "colab": {
          "base_uri": "https://localhost:8080/",
          "height": 51
        },
        "outputId": "3b60fdb3-0305-4180-8de2-7fb67b559ef7"
      },
      "source": [
        "mobile = keras.applications.mobilenet.MobileNet()"
      ],
      "execution_count": 23,
      "outputs": [
        {
          "output_type": "stream",
          "text": [
            "Downloading data from https://github.com/fchollet/deep-learning-models/releases/download/v0.6/mobilenet_1_0_224_tf.h5\n",
            "17227776/17225924 [==============================] - 1s 0us/step\n"
          ],
          "name": "stdout"
        }
      ]
    },
    {
      "cell_type": "code",
      "metadata": {
        "id": "okVAFgnGPqrj",
        "colab_type": "code",
        "colab": {}
      },
      "source": [
        "URL = \"https://tfhub.dev/google/tf2-preview/mobilenet_v2/feature_vector/4\"\n",
        "feature_extractor = hub.KerasLayer(URL,\n",
        "                                  input_shape=(IMG_SHAPE, IMG_SHAPE, 3))\n",
        "#base_model = tf.keras.applications.MobileNetV2(\n",
        " #   input_shape=(IMG_SHAPE, IMG_SHAPE, 3),\n",
        "  #  weights='imagenet',\n",
        "   # include_top = False\n",
        "#)"
      ],
      "execution_count": 0,
      "outputs": []
    },
    {
      "cell_type": "code",
      "metadata": {
        "id": "q6aBylj7P9bX",
        "colab_type": "code",
        "colab": {}
      },
      "source": [
        "\n",
        "feature_extractor.trainable = False"
      ],
      "execution_count": 0,
      "outputs": []
    },
    {
      "cell_type": "code",
      "metadata": {
        "id": "-2Bj8AoJQJl4",
        "colab_type": "code",
        "colab": {
          "base_uri": "https://localhost:8080/",
          "height": 221
        },
        "outputId": "ad951ff9-a162-41dc-b16c-211684300298"
      },
      "source": [
        "model = tf.keras.Sequential([\n",
        "  feature_extractor,\n",
        "  tf.keras.layers.Dense(38, activation='softmax')\n",
        "])\n",
        "\n",
        "model.summary()"
      ],
      "execution_count": 26,
      "outputs": [
        {
          "output_type": "stream",
          "text": [
            "Model: \"sequential\"\n",
            "_________________________________________________________________\n",
            "Layer (type)                 Output Shape              Param #   \n",
            "=================================================================\n",
            "keras_layer (KerasLayer)     (None, 1280)              2257984   \n",
            "_________________________________________________________________\n",
            "dense (Dense)                (None, 38)                48678     \n",
            "=================================================================\n",
            "Total params: 2,306,662\n",
            "Trainable params: 48,678\n",
            "Non-trainable params: 2,257,984\n",
            "_________________________________________________________________\n"
          ],
          "name": "stdout"
        }
      ]
    },
    {
      "cell_type": "code",
      "metadata": {
        "id": "T8PZx2VsQ3Kn",
        "colab_type": "code",
        "colab": {}
      },
      "source": [
        "model.compile(\n",
        "  optimizer='adam',\n",
        "  loss='sparse_categorical_crossentropy',\n",
        "  metrics=['accuracy'])\n",
        "\n"
      ],
      "execution_count": 0,
      "outputs": []
    },
    {
      "cell_type": "code",
      "metadata": {
        "id": "3Bhd1J3YQ8GM",
        "colab_type": "code",
        "colab": {
          "base_uri": "https://localhost:8080/",
          "height": 221
        },
        "outputId": "708e4509-0176-4996-e1b2-52ca719c80ea"
      },
      "source": [
        "EPOCHS = 6\n",
        "\n",
        "history = model.fit_generator(\n",
        "                    train_data_gen,\n",
        "                    steps_per_epoch = 70,\n",
        "                    epochs=EPOCHS,\n",
        "                    validation_data=val_data_gen)"
      ],
      "execution_count": 28,
      "outputs": [
        {
          "output_type": "stream",
          "text": [
            "Epoch 1/6\n",
            "70/70 [==============================] - 38s 549ms/step - loss: 1.9509 - acc: 0.5201 - val_loss: 1.0409 - val_acc: 0.7531\n",
            "Epoch 2/6\n",
            "70/70 [==============================] - 33s 467ms/step - loss: 0.8312 - acc: 0.7978 - val_loss: 0.6598 - val_acc: 0.8393\n",
            "Epoch 3/6\n",
            "70/70 [==============================] - 33s 465ms/step - loss: 0.5673 - acc: 0.8603 - val_loss: 0.5032 - val_acc: 0.8768\n",
            "Epoch 4/6\n",
            "70/70 [==============================] - 32s 459ms/step - loss: 0.4585 - acc: 0.8795 - val_loss: 0.4247 - val_acc: 0.8897\n",
            "Epoch 5/6\n",
            "70/70 [==============================] - 32s 457ms/step - loss: 0.3876 - acc: 0.8982 - val_loss: 0.3646 - val_acc: 0.9039\n",
            "Epoch 6/6\n",
            "70/70 [==============================] - 32s 459ms/step - loss: 0.3565 - acc: 0.9067 - val_loss: 0.3405 - val_acc: 0.9098\n"
          ],
          "name": "stdout"
        }
      ]
    },
    {
      "cell_type": "code",
      "metadata": {
        "id": "71RTc9DXQ8-V",
        "colab_type": "code",
        "colab": {
          "base_uri": "https://localhost:8080/",
          "height": 499
        },
        "outputId": "858934f3-48d3-4ee5-85fd-0e70e9fa20bc"
      },
      "source": [
        "import matplotlib.pyplot as plt\n",
        "acc = model.history.history['acc']\n",
        "val_acc = model.history.history['val_acc']\n",
        "\n",
        "loss = model.history.history['loss']\n",
        "val_loss = model.history.history['val_loss']\n",
        "\n",
        "epochs_range = range(EPOCHS)\n",
        "plt.figure(figsize=(8,8))\n",
        "plt.subplot(1,2,1)\n",
        "plt.plot(epochs_range,acc,label='Training Accuracy')\n",
        "plt.plot(epochs_range,val_acc,label='Validation Accuracy')\n",
        "plt.legend(loc='lower right')\n",
        "plt.title('Trining and Validation Accuracy')\n",
        "\n",
        "plt.subplot(1,2,2)\n",
        "plt.plot(epochs_range,loss,label='Training LOSS')\n",
        "plt.plot(epochs_range,val_loss,label='Validation LOSS')\n",
        "plt.legend(loc='upper right')\n",
        "plt.title('Training and Validation LOSS')\n",
        "\n",
        "plt.savefig('./foo.png')\n",
        "plt.show()"
      ],
      "execution_count": 30,
      "outputs": [
        {
          "output_type": "display_data",
          "data": {
            "image/png": "[encoded data removed]",
            "text/plain": [
              "<Figure size 576x576 with 2 Axes>"
            ]
          },
          "metadata": {
            "tags": []
          }
        }
      ]
    },
    {
      "cell_type": "code",
      "metadata": {
        "id": "afZ4XiLkRCxr",
        "colab_type": "code",
        "colab": {}
      },
      "source": [
        "!git push"
      ],
      "execution_count": 0,
      "outputs": []
    },
    {
      "cell_type": "code",
      "metadata": {
        "id": "6husjFNAI_J2",
        "colab_type": "code",
        "colab": {}
      },
      "source": [
        "!git commit -m \"MobileNet architechture added\""
      ],
      "execution_count": 0,
      "outputs": []
    },
    {
      "cell_type": "code",
      "metadata": {
        "id": "GlHK6tMBJGtG",
        "colab_type": "code",
        "colab": {}
      },
      "source": [
        ""
      ],
      "execution_count": 0,
      "outputs": []
    }
  ]
}