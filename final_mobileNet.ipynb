{
  "nbformat": 4,
  "nbformat_minor": 0,
  "metadata": {
    "colab": {
      "name": "Untitled31.ipynb",
      "provenance": [],
      "collapsed_sections": []
    },
    "kernelspec": {
      "name": "python3",
      "display_name": "Python 3"
    },
    "accelerator": "GPU"
  },
  "cells": [
    {
      "cell_type": "code",
      "metadata": {
        "id": "mxfHq-Z17ENN",
        "colab_type": "code",
        "colab": {
          "base_uri": "https://localhost:8080/",
          "height": 35
        },
        "outputId": "b8370ed4-898c-4b5d-83d5-d20aab7a77a4"
      },
      "source": [
        "from __future__ import absolute_import, division, print_function, unicode_literals\n",
        "\n",
        "import numpy as np\n",
        "import matplotlib.pyplot as plt\n",
        "import os\n",
        "\n",
        "import tensorflow as tf\n",
        "import tensorflow_hub as hub\n",
        "\n",
        "import pandas as pd\n",
        "import glob\n",
        "import shutil\n",
        "\n",
        "from tensorflow.keras import layers\n",
        "print(tf.__version__)"
      ],
      "execution_count": 1,
      "outputs": [
        {
          "output_type": "stream",
          "text": [
            "2.3.0\n"
          ],
          "name": "stdout"
        }
      ]
    },
    {
      "cell_type": "code",
      "metadata": {
        "id": "UeQJTRCP7VS9",
        "colab_type": "code",
        "colab": {
          "base_uri": "https://localhost:8080/",
          "height": 126
        },
        "outputId": "fd5decb0-a4a8-4284-c3f4-35d2ce5a82c9"
      },
      "source": [
        "from google.colab import drive\n",
        "drive.mount('/content/drive')"
      ],
      "execution_count": 2,
      "outputs": [
        {
          "output_type": "stream",
          "text": [
            "Go to this URL in a browser: https://accounts.google.com/o/oauth2/auth?client_id=947318989803-6bn6qk8qdgf4n4g3pfee6491hc0brc4i.apps.googleusercontent.com&redirect_uri=urn%3aietf%3awg%3aoauth%3a2.0%3aoob&scope=email%20https%3a%2f%2fwww.googleapis.com%2fauth%2fdocs.test%20https%3a%2f%2fwww.googleapis.com%2fauth%2fdrive%20https%3a%2f%2fwww.googleapis.com%2fauth%2fdrive.photos.readonly%20https%3a%2f%2fwww.googleapis.com%2fauth%2fpeopleapi.readonly&response_type=code\n",
            "\n",
            "Enter your authorization code:\n",
            "··········\n",
            "Mounted at /content/drive\n"
          ],
          "name": "stdout"
        }
      ]
    },
    {
      "cell_type": "code",
      "metadata": {
        "id": "ot6OZ0aT7gE4",
        "colab_type": "code",
        "colab": {}
      },
      "source": [
        "import logging\n",
        "logger = tf.get_logger()\n",
        "logger.setLevel(logging.ERROR)"
      ],
      "execution_count": 3,
      "outputs": []
    },
    {
      "cell_type": "code",
      "metadata": {
        "id": "ezgyJHl97s2D",
        "colab_type": "code",
        "colab": {
          "base_uri": "https://localhost:8080/",
          "height": 35
        },
        "outputId": "2c6e97d1-4d32-4ca6-8899-a4a5bbeebd57"
      },
      "source": [
        "from zipfile import ZipFile\n",
        "file_name=\"/content/drive/My Drive/color.zip\"\n",
        "with ZipFile(file_name,'r') as zip:\n",
        "  zip.extractall()\n",
        "  print('Done')"
      ],
      "execution_count": 4,
      "outputs": [
        {
          "output_type": "stream",
          "text": [
            "Done\n"
          ],
          "name": "stdout"
        }
      ]
    },
    {
      "cell_type": "code",
      "metadata": {
        "id": "pCTAm0N87vOC",
        "colab_type": "code",
        "colab": {}
      },
      "source": [
        "\n",
        "dataset='/content/color/Apple___Apple_scab'"
      ],
      "execution_count": 5,
      "outputs": []
    },
    {
      "cell_type": "code",
      "metadata": {
        "id": "mXgvGKSN70UL",
        "colab_type": "code",
        "colab": {
          "base_uri": "https://localhost:8080/",
          "height": 35
        },
        "outputId": "bbbcd52e-0c62-4c9a-d7b2-268da9a71eb9"
      },
      "source": [
        "len(dataset)"
      ],
      "execution_count": 6,
      "outputs": [
        {
          "output_type": "execute_result",
          "data": {
            "text/plain": [
              "33"
            ]
          },
          "metadata": {
            "tags": []
          },
          "execution_count": 6
        }
      ]
    },
    {
      "cell_type": "code",
      "metadata": {
        "id": "yjcqYo8F73sH",
        "colab_type": "code",
        "colab": {}
      },
      "source": [
        "import os"
      ],
      "execution_count": 7,
      "outputs": []
    },
    {
      "cell_type": "code",
      "metadata": {
        "id": "pWjKMWLy757x",
        "colab_type": "code",
        "colab": {
          "base_uri": "https://localhost:8080/",
          "height": 35
        },
        "outputId": "e7224d92-d1a7-486e-f1e1-8d0aa4939146"
      },
      "source": [
        "data=os.listdir('/content/color')\n",
        "len(data)"
      ],
      "execution_count": 8,
      "outputs": [
        {
          "output_type": "execute_result",
          "data": {
            "text/plain": [
              "38"
            ]
          },
          "metadata": {
            "tags": []
          },
          "execution_count": 8
        }
      ]
    },
    {
      "cell_type": "code",
      "metadata": {
        "id": "koyE2IBc77yC",
        "colab_type": "code",
        "colab": {}
      },
      "source": [
        "apple_data=os.listdir('/content/color/Apple___Apple_scab')"
      ],
      "execution_count": 9,
      "outputs": []
    },
    {
      "cell_type": "code",
      "metadata": {
        "id": "ns4qPXhI7_px",
        "colab_type": "code",
        "colab": {
          "base_uri": "https://localhost:8080/",
          "height": 35
        },
        "outputId": "10c9101e-692f-4568-f2d7-95bc3241413f"
      },
      "source": [
        "len(apple_data)"
      ],
      "execution_count": 10,
      "outputs": [
        {
          "output_type": "execute_result",
          "data": {
            "text/plain": [
              "630"
            ]
          },
          "metadata": {
            "tags": []
          },
          "execution_count": 10
        }
      ]
    },
    {
      "cell_type": "code",
      "metadata": {
        "id": "WRY6FKEK8B9O",
        "colab_type": "code",
        "colab": {}
      },
      "source": [
        "image_paths=[]\n",
        "for i in apple_data:\n",
        "  image_paths.append(os.path.join('/content/color/Apple___Apple_scab',i))"
      ],
      "execution_count": 11,
      "outputs": []
    },
    {
      "cell_type": "code",
      "metadata": {
        "id": "dRofqe7K8Eap",
        "colab_type": "code",
        "colab": {
          "base_uri": "https://localhost:8080/",
          "height": 36
        },
        "outputId": "77db198a-26aa-4054-f5b4-d433f0c14f73"
      },
      "source": [
        "image_paths[1]"
      ],
      "execution_count": 12,
      "outputs": [
        {
          "output_type": "execute_result",
          "data": {
            "application/vnd.google.colaboratory.intrinsic+json": {
              "type": "string"
            },
            "text/plain": [
              "'/content/color/Apple___Apple_scab/f1017472-d391-4a66-b9b2-d52916cd0c0b___FREC_Scab 3176.JPG'"
            ]
          },
          "metadata": {
            "tags": []
          },
          "execution_count": 12
        }
      ]
    },
    {
      "cell_type": "code",
      "metadata": {
        "id": "QZ900a0E8GoN",
        "colab_type": "code",
        "colab": {}
      },
      "source": [
        "img=plt.imread(image_paths[1])"
      ],
      "execution_count": 13,
      "outputs": []
    },
    {
      "cell_type": "code",
      "metadata": {
        "id": "F8BLmv--8Ipw",
        "colab_type": "code",
        "colab": {}
      },
      "source": [
        "dataset=os.listdir('/content/color')"
      ],
      "execution_count": 14,
      "outputs": []
    },
    {
      "cell_type": "code",
      "metadata": {
        "id": "Q3VCLUiI8LM8",
        "colab_type": "code",
        "colab": {
          "base_uri": "https://localhost:8080/",
          "height": 35
        },
        "outputId": "a37471e4-d046-4429-e6c4-490fd8613294"
      },
      "source": [
        "\n",
        "len(dataset)"
      ],
      "execution_count": 15,
      "outputs": [
        {
          "output_type": "execute_result",
          "data": {
            "text/plain": [
              "38"
            ]
          },
          "metadata": {
            "tags": []
          },
          "execution_count": 15
        }
      ]
    },
    {
      "cell_type": "code",
      "metadata": {
        "id": "bFWx3kT08ODn",
        "colab_type": "code",
        "colab": {}
      },
      "source": [
        "num_label=0\n",
        "for example in dataset:\n",
        "  num_label+=1"
      ],
      "execution_count": 16,
      "outputs": []
    },
    {
      "cell_type": "code",
      "metadata": {
        "id": "NMsQUhv78REL",
        "colab_type": "code",
        "colab": {}
      },
      "source": [
        "classes=['Apple___Apple_scab','Apple___Black_rot','Apple___Cedar_apple_rust','Apple___healthy','Blueberry___healthy','Cherry_(including_sour)___Powdery_mildew','Cherry_(including_sour)___healthy','Corn_(maize)___Cercospora_leaf_spot Gray_leaf_spot','Corn_(maize)___Common_rust_','Corn_(maize)___Northern_Leaf_Blight','Corn_(maize)___healthy','Grape___Black_rot','Grape___Esca_(Black_Measles)','Grape___Leaf_blight_(Isariopsis_Leaf_Spot)','Grape___healthy','Orange___Haunglongbing_(Citrus_greening)','Peach___Bacterial_spot','Peach___healthy','Pepper,_bell___Bacterial_spot','Pepper,_bell___healthy','Potato___Early_blight','Potato___Late_blight','Potato___healthy','Raspberry___healthy','Soybean___healthy','Squash___Powdery_mildew','Strawberry___Leaf_scorch','Strawberry___healthy','Tomato___Bacterial_spot','Tomato___Early_blight','Tomato___Late_blight','Tomato___Leaf_Mold','Tomato___Septoria_leaf_spot','Tomato___Spider_mites Two-spotted_spider_mite','Tomato___Target_Spot','Tomato___Tomato_Yellow_Leaf_Curl_Virus','Tomato___Tomato_mosaic_virus','Tomato___healthy']"
      ],
      "execution_count": 17,
      "outputs": []
    },
    {
      "cell_type": "code",
      "metadata": {
        "id": "A-POxETH8U9b",
        "colab_type": "code",
        "colab": {
          "base_uri": "https://localhost:8080/",
          "height": 35
        },
        "outputId": "a49621a5-5a44-4a84-a1cd-016f5c550987"
      },
      "source": [
        "len(classes)"
      ],
      "execution_count": 18,
      "outputs": [
        {
          "output_type": "execute_result",
          "data": {
            "text/plain": [
              "38"
            ]
          },
          "metadata": {
            "tags": []
          },
          "execution_count": 18
        }
      ]
    },
    {
      "cell_type": "code",
      "metadata": {
        "id": "B0hUeKuP8YMj",
        "colab_type": "code",
        "colab": {
          "base_uri": "https://localhost:8080/",
          "height": 692
        },
        "outputId": "327d8ac7-e4ed-4265-d733-a2da3171b4bd"
      },
      "source": [
        "project_path='/content/color'\n",
        "for cl in classes:\n",
        "  images = glob.glob('/content/color'+'/'+cl+'/*.JPG')\n",
        "  print(\"{}: {} Images\".format(cl, len(images)))\n",
        "  train, val = images[:round(len(images)*0.78)],images[round(len(images)*0.78):]\n",
        "  \n",
        "  for t in train:\n",
        "    if not os.path.exists(os.path.join(project_path, 'train', cl)):\n",
        "      os.makedirs(os.path.join(project_path, 'train', cl))\n",
        "    shutil.move(t, os.path.join(project_path, 'train', cl))\n",
        "\n",
        "  for v in val:\n",
        "    if not os.path.exists(os.path.join(project_path, 'val', cl)):\n",
        "      os.makedirs(os.path.join(project_path, 'val', cl))\n",
        "    shutil.move(v, os.path.join(project_path, 'val', cl))"
      ],
      "execution_count": 19,
      "outputs": [
        {
          "output_type": "stream",
          "text": [
            "Apple___Apple_scab: 630 Images\n",
            "Apple___Black_rot: 621 Images\n",
            "Apple___Cedar_apple_rust: 275 Images\n",
            "Apple___healthy: 1645 Images\n",
            "Blueberry___healthy: 1502 Images\n",
            "Cherry_(including_sour)___Powdery_mildew: 1052 Images\n",
            "Cherry_(including_sour)___healthy: 854 Images\n",
            "Corn_(maize)___Cercospora_leaf_spot Gray_leaf_spot: 446 Images\n",
            "Corn_(maize)___Common_rust_: 1192 Images\n",
            "Corn_(maize)___Northern_Leaf_Blight: 870 Images\n",
            "Corn_(maize)___healthy: 21 Images\n",
            "Grape___Black_rot: 1180 Images\n",
            "Grape___Esca_(Black_Measles): 1383 Images\n",
            "Grape___Leaf_blight_(Isariopsis_Leaf_Spot): 1076 Images\n",
            "Grape___healthy: 423 Images\n",
            "Orange___Haunglongbing_(Citrus_greening): 5507 Images\n",
            "Peach___Bacterial_spot: 2297 Images\n",
            "Peach___healthy: 360 Images\n",
            "Pepper,_bell___Bacterial_spot: 997 Images\n",
            "Pepper,_bell___healthy: 1476 Images\n",
            "Potato___Early_blight: 1000 Images\n",
            "Potato___Late_blight: 1000 Images\n",
            "Potato___healthy: 152 Images\n",
            "Raspberry___healthy: 371 Images\n",
            "Soybean___healthy: 5090 Images\n",
            "Squash___Powdery_mildew: 1813 Images\n",
            "Strawberry___Leaf_scorch: 1108 Images\n",
            "Strawberry___healthy: 456 Images\n",
            "Tomato___Bacterial_spot: 2127 Images\n",
            "Tomato___Early_blight: 1000 Images\n",
            "Tomato___Late_blight: 1756 Images\n",
            "Tomato___Leaf_Mold: 952 Images\n",
            "Tomato___Septoria_leaf_spot: 1771 Images\n",
            "Tomato___Spider_mites Two-spotted_spider_mite: 1676 Images\n",
            "Tomato___Target_Spot: 1404 Images\n",
            "Tomato___Tomato_Yellow_Leaf_Curl_Virus: 5357 Images\n",
            "Tomato___Tomato_mosaic_virus: 373 Images\n",
            "Tomato___healthy: 1590 Images\n"
          ],
          "name": "stdout"
        }
      ]
    },
    {
      "cell_type": "code",
      "metadata": {
        "id": "5eykJCsQ8cZ7",
        "colab_type": "code",
        "colab": {}
      },
      "source": [
        "train_dir=os.listdir('/content/color/train')\n",
        "val_dir=os.listdir('/content/color/val')"
      ],
      "execution_count": 20,
      "outputs": []
    },
    {
      "cell_type": "code",
      "metadata": {
        "id": "987NL8J48pjc",
        "colab_type": "code",
        "colab": {
          "base_uri": "https://localhost:8080/",
          "height": 35
        },
        "outputId": "f4d2dd94-fec3-43ce-f470-c379daa95aad"
      },
      "source": [
        "len(train_dir)\n",
        "len(val_dir)"
      ],
      "execution_count": 21,
      "outputs": [
        {
          "output_type": "execute_result",
          "data": {
            "text/plain": [
              "38"
            ]
          },
          "metadata": {
            "tags": []
          },
          "execution_count": 21
        }
      ]
    },
    {
      "cell_type": "code",
      "metadata": {
        "id": "Uy9A4pZf8rtd",
        "colab_type": "code",
        "colab": {}
      },
      "source": [
        "IMG_SHAPE=224\n",
        "BATCH_SIZE=32"
      ],
      "execution_count": 22,
      "outputs": []
    },
    {
      "cell_type": "code",
      "metadata": {
        "id": "3t9o6cP880pc",
        "colab_type": "code",
        "colab": {}
      },
      "source": [
        "from tensorflow.keras.preprocessing.image import ImageDataGenerator\n",
        "train_image_generator=ImageDataGenerator(rescale=1./255)\n",
        "validation_image_generator=ImageDataGenerator(rescale=1./255)"
      ],
      "execution_count": 23,
      "outputs": []
    },
    {
      "cell_type": "code",
      "metadata": {
        "id": "FSa_roLO84EB",
        "colab_type": "code",
        "colab": {
          "base_uri": "https://localhost:8080/",
          "height": 35
        },
        "outputId": "ea98df72-4bc9-4dab-8867-7bb17a0dce42"
      },
      "source": [
        "train_data_gen = train_image_generator.flow_from_directory(batch_size=BATCH_SIZE,\n",
        "        directory='/content/color/train',\n",
        "        shuffle=True,\n",
        "        target_size=(224,224),\n",
        "        class_mode='sparse')"
      ],
      "execution_count": 24,
      "outputs": [
        {
          "output_type": "stream",
          "text": [
            "Found 41185 images belonging to 38 classes.\n"
          ],
          "name": "stdout"
        }
      ]
    },
    {
      "cell_type": "code",
      "metadata": {
        "id": "FKJLgKmv9AMG",
        "colab_type": "code",
        "colab": {
          "base_uri": "https://localhost:8080/",
          "height": 35
        },
        "outputId": "00025a62-72b1-4b76-ea0a-6c0fb3079fff"
      },
      "source": [
        "val_data_gen = validation_image_generator.flow_from_directory(batch_size=BATCH_SIZE,\n",
        "        directory='/content/color/val',\n",
        "        shuffle=False,\n",
        "        target_size=(224,224),\n",
        "        class_mode='sparse')\n"
      ],
      "execution_count": 25,
      "outputs": [
        {
          "output_type": "stream",
          "text": [
            "Found 11618 images belonging to 38 classes.\n"
          ],
          "name": "stdout"
        }
      ]
    },
    {
      "cell_type": "code",
      "metadata": {
        "id": "cqbm0XYU9ICN",
        "colab_type": "code",
        "colab": {}
      },
      "source": [
        "URL = \"https://tfhub.dev/google/tf2-preview/mobilenet_v2/feature_vector/4\"\n",
        "feature_extractor = hub.KerasLayer(URL,\n",
        "  input_shape=(IMG_SHAPE, IMG_SHAPE, 3))\n",
        "feature_extractor.trainable=False\n"
      ],
      "execution_count": 27,
      "outputs": []
    },
    {
      "cell_type": "code",
      "metadata": {
        "id": "WsZiM6xk9RDg",
        "colab_type": "code",
        "colab": {}
      },
      "source": [
        "model=tf.keras.Sequential([\n",
        "    feature_extractor,\n",
        "    tf.keras.layers.Dense(38,activation='softmax')\n",
        "])"
      ],
      "execution_count": 28,
      "outputs": []
    },
    {
      "cell_type": "code",
      "metadata": {
        "id": "PjN28Cn29fg6",
        "colab_type": "code",
        "colab": {}
      },
      "source": [
        "model.compile(\n",
        "      optimizer='adam',\n",
        "      loss='sparse_categorical_crossentropy',\n",
        "      metrics=['accuracy'])"
      ],
      "execution_count": 29,
      "outputs": []
    },
    {
      "cell_type": "code",
      "metadata": {
        "id": "8HAo_FDD9h4V",
        "colab_type": "code",
        "colab": {
          "base_uri": "https://localhost:8080/",
          "height": 728
        },
        "outputId": "07eee5fd-039d-414b-e148-f7b0ac7ad600"
      },
      "source": [
        "EPOCHS=20\n",
        "history=model.fit_generator(\n",
        "                   train_data_gen,\n",
        "                   epochs=EPOCHS,\n",
        "                   validation_data=val_data_gen)"
      ],
      "execution_count": 30,
      "outputs": [
        {
          "output_type": "stream",
          "text": [
            "Epoch 1/20\n",
            "1288/1288 [==============================] - 117s 91ms/step - loss: 0.4142 - accuracy: 0.8916 - val_loss: 0.1978 - val_accuracy: 0.9426\n",
            "Epoch 2/20\n",
            "1288/1288 [==============================] - 115s 90ms/step - loss: 0.1486 - accuracy: 0.9563 - val_loss: 0.1667 - val_accuracy: 0.9500\n",
            "Epoch 3/20\n",
            "1288/1288 [==============================] - 116s 90ms/step - loss: 0.1084 - accuracy: 0.9684 - val_loss: 0.1510 - val_accuracy: 0.9515\n",
            "Epoch 4/20\n",
            "1288/1288 [==============================] - 115s 90ms/step - loss: 0.0840 - accuracy: 0.9746 - val_loss: 0.1378 - val_accuracy: 0.9577\n",
            "Epoch 5/20\n",
            "1288/1288 [==============================] - 115s 89ms/step - loss: 0.0694 - accuracy: 0.9789 - val_loss: 0.1318 - val_accuracy: 0.9600\n",
            "Epoch 6/20\n",
            "1288/1288 [==============================] - 115s 89ms/step - loss: 0.0567 - accuracy: 0.9834 - val_loss: 0.1338 - val_accuracy: 0.9583\n",
            "Epoch 7/20\n",
            "1288/1288 [==============================] - 115s 89ms/step - loss: 0.0473 - accuracy: 0.9869 - val_loss: 0.1517 - val_accuracy: 0.9505\n",
            "Epoch 8/20\n",
            "1288/1288 [==============================] - 114s 88ms/step - loss: 0.0431 - accuracy: 0.9878 - val_loss: 0.1274 - val_accuracy: 0.9617\n",
            "Epoch 9/20\n",
            "1288/1288 [==============================] - 114s 88ms/step - loss: 0.0365 - accuracy: 0.9903 - val_loss: 0.1236 - val_accuracy: 0.9624\n",
            "Epoch 10/20\n",
            "1288/1288 [==============================] - 114s 88ms/step - loss: 0.0325 - accuracy: 0.9913 - val_loss: 0.1322 - val_accuracy: 0.9605\n",
            "Epoch 11/20\n",
            "1288/1288 [==============================] - 114s 88ms/step - loss: 0.0282 - accuracy: 0.9929 - val_loss: 0.1318 - val_accuracy: 0.9628\n",
            "Epoch 12/20\n",
            "1288/1288 [==============================] - 114s 88ms/step - loss: 0.0253 - accuracy: 0.9935 - val_loss: 0.1254 - val_accuracy: 0.9646\n",
            "Epoch 13/20\n",
            "1288/1288 [==============================] - 113s 88ms/step - loss: 0.0232 - accuracy: 0.9948 - val_loss: 0.1334 - val_accuracy: 0.9607\n",
            "Epoch 14/20\n",
            "1288/1288 [==============================] - 114s 88ms/step - loss: 0.0210 - accuracy: 0.9948 - val_loss: 0.1282 - val_accuracy: 0.9636\n",
            "Epoch 15/20\n",
            "1288/1288 [==============================] - 113s 88ms/step - loss: 0.0178 - accuracy: 0.9964 - val_loss: 0.1312 - val_accuracy: 0.9636\n",
            "Epoch 16/20\n",
            "1288/1288 [==============================] - 113s 88ms/step - loss: 0.0172 - accuracy: 0.9964 - val_loss: 0.1320 - val_accuracy: 0.9628\n",
            "Epoch 17/20\n",
            "1288/1288 [==============================] - 114s 88ms/step - loss: 0.0146 - accuracy: 0.9971 - val_loss: 0.1513 - val_accuracy: 0.9583\n",
            "Epoch 18/20\n",
            "1288/1288 [==============================] - 113s 88ms/step - loss: 0.0145 - accuracy: 0.9972 - val_loss: 0.1392 - val_accuracy: 0.9625\n",
            "Epoch 19/20\n",
            "1288/1288 [==============================] - 114s 88ms/step - loss: 0.0126 - accuracy: 0.9979 - val_loss: 0.1398 - val_accuracy: 0.9632\n",
            "Epoch 20/20\n",
            "1288/1288 [==============================] - 113s 88ms/step - loss: 0.0116 - accuracy: 0.9978 - val_loss: 0.1402 - val_accuracy: 0.9632\n"
          ],
          "name": "stdout"
        }
      ]
    },
    {
      "cell_type": "code",
      "metadata": {
        "id": "JVCPLHNM9ll8",
        "colab_type": "code",
        "colab": {
          "base_uri": "https://localhost:8080/",
          "height": 499
        },
        "outputId": "dce169b8-3e3d-4533-bef5-619a8b61cd3f"
      },
      "source": [
        "acc = history.history['accuracy']\n",
        "val_acc = history.history['val_accuracy']\n",
        "\n",
        "loss = history.history['loss']\n",
        "val_loss = history.history['val_loss']\n",
        "\n",
        "epochs_range = range(EPOCHS)\n",
        "\n",
        "plt.figure(figsize=(8, 8))\n",
        "plt.subplot(1, 2, 1)\n",
        "plt.plot(epochs_range, acc, label='Training Accuracy')\n",
        "plt.plot(epochs_range, val_acc, label='Validation Accuracy')\n",
        "plt.legend(loc='lower right')\n",
        "plt.title('Training and Validation Accuracy')\n",
        "\n",
        "plt.subplot(1, 2, 2)\n",
        "plt.plot(epochs_range, loss, label='Training Loss')\n",
        "plt.plot(epochs_range, val_loss, label='Validation Loss')\n",
        "plt.legend(loc='upper right')\n",
        "plt.title('Training and Validation Loss')\n",
        "plt.show()"
      ],
      "execution_count": 31,
      "outputs": [
        {
          "output_type": "display_data",
          "data": {
            "image/png": "[encoded data removed]",
            "text/plain": [
              "<Figure size 576x576 with 2 Axes>"
            ]
          },
          "metadata": {
            "tags": [],
            "needs_background": "light"
          }
        }
      ]
    },
    {
      "cell_type": "code",
      "metadata": {
        "id": "yVkwMZ99GgY4",
        "colab_type": "code",
        "colab": {}
      },
      "source": [
        ""
      ],
      "execution_count": null,
      "outputs": []
    }
  ]
}