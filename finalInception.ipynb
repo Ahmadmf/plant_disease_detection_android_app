{
  "nbformat": 4,
  "nbformat_minor": 0,
  "metadata": {
    "colab": {
      "name": "Untitled30.ipynb",
      "provenance": [],
      "collapsed_sections": []
    },
    "kernelspec": {
      "name": "python3",
      "display_name": "Python 3"
    },
    "accelerator": "GPU"
  },
  "cells": [
    {
      "cell_type": "code",
      "metadata": {
        "id": "yxHr1GmdyVrV",
        "colab_type": "code",
        "colab": {
          "base_uri": "https://localhost:8080/",
          "height": 35
        },
        "outputId": "52bf0831-f70e-4383-b71d-96008da308e8"
      },
      "source": [
        "from __future__ import absolute_import, division, print_function, unicode_literals\n",
        "\n",
        "import numpy as np\n",
        "import matplotlib.pyplot as plt\n",
        "import os\n",
        "\n",
        "import tensorflow as tf\n",
        "import tensorflow_hub as hub\n",
        "\n",
        "import pandas as pd\n",
        "import glob\n",
        "import shutil\n",
        "\n",
        "from tensorflow.keras import layers\n",
        "print(tf.__version__)"
      ],
      "execution_count": 1,
      "outputs": [
        {
          "output_type": "stream",
          "text": [
            "2.3.0\n"
          ],
          "name": "stdout"
        }
      ]
    },
    {
      "cell_type": "code",
      "metadata": {
        "id": "yTcmC-D8yjHz",
        "colab_type": "code",
        "colab": {
          "base_uri": "https://localhost:8080/",
          "height": 126
        },
        "outputId": "b9bd01b5-0325-4aad-f495-b60c38b8992d"
      },
      "source": [
        "from google.colab import drive\n",
        "drive.mount('/content/drive')"
      ],
      "execution_count": 2,
      "outputs": [
        {
          "output_type": "stream",
          "text": [
            "Go to this URL in a browser: https://accounts.google.com/o/oauth2/auth?client_id=947318989803-6bn6qk8qdgf4n4g3pfee6491hc0brc4i.apps.googleusercontent.com&redirect_uri=urn%3aietf%3awg%3aoauth%3a2.0%3aoob&scope=email%20https%3a%2f%2fwww.googleapis.com%2fauth%2fdocs.test%20https%3a%2f%2fwww.googleapis.com%2fauth%2fdrive%20https%3a%2f%2fwww.googleapis.com%2fauth%2fdrive.photos.readonly%20https%3a%2f%2fwww.googleapis.com%2fauth%2fpeopleapi.readonly&response_type=code\n",
            "\n",
            "Enter your authorization code:\n",
            "··········\n",
            "Mounted at /content/drive\n"
          ],
          "name": "stdout"
        }
      ]
    },
    {
      "cell_type": "code",
      "metadata": {
        "id": "aWIGb_8IzWKP",
        "colab_type": "code",
        "colab": {}
      },
      "source": [
        "import logging\n",
        "logger = tf.get_logger()\n",
        "logger.setLevel(logging.ERROR)"
      ],
      "execution_count": 3,
      "outputs": []
    },
    {
      "cell_type": "code",
      "metadata": {
        "id": "BJNk8I7wziR8",
        "colab_type": "code",
        "colab": {
          "base_uri": "https://localhost:8080/",
          "height": 35
        },
        "outputId": "725a0c12-5338-41b1-e881-b5f9ee951f55"
      },
      "source": [
        "from zipfile import ZipFile\n",
        "file_name=\"/content/drive/My Drive/color.zip\"\n",
        "with ZipFile(file_name,'r') as zip:\n",
        "  zip.extractall()\n",
        "  print('Done')"
      ],
      "execution_count": 4,
      "outputs": [
        {
          "output_type": "stream",
          "text": [
            "Done\n"
          ],
          "name": "stdout"
        }
      ]
    },
    {
      "cell_type": "code",
      "metadata": {
        "id": "LfddfqAPzkzi",
        "colab_type": "code",
        "colab": {}
      },
      "source": [
        "\n",
        "dataset='/content/color/Apple___Apple_scab'"
      ],
      "execution_count": 5,
      "outputs": []
    },
    {
      "cell_type": "code",
      "metadata": {
        "id": "kUoeQ_7szvJ-",
        "colab_type": "code",
        "colab": {
          "base_uri": "https://localhost:8080/",
          "height": 35
        },
        "outputId": "879030e7-a6c6-49f0-f74b-614885886f24"
      },
      "source": [
        "len(dataset)"
      ],
      "execution_count": 6,
      "outputs": [
        {
          "output_type": "execute_result",
          "data": {
            "text/plain": [
              "33"
            ]
          },
          "metadata": {
            "tags": []
          },
          "execution_count": 6
        }
      ]
    },
    {
      "cell_type": "code",
      "metadata": {
        "id": "6YT59d3yzyFg",
        "colab_type": "code",
        "colab": {}
      },
      "source": [
        "import os"
      ],
      "execution_count": 7,
      "outputs": []
    },
    {
      "cell_type": "code",
      "metadata": {
        "id": "Ero5fNQ7z0Li",
        "colab_type": "code",
        "colab": {
          "base_uri": "https://localhost:8080/",
          "height": 35
        },
        "outputId": "90a0a26e-8c63-4c4e-837d-1bc0d6a517b2"
      },
      "source": [
        "data=os.listdir('/content/color')\n",
        "len(data)"
      ],
      "execution_count": 8,
      "outputs": [
        {
          "output_type": "execute_result",
          "data": {
            "text/plain": [
              "38"
            ]
          },
          "metadata": {
            "tags": []
          },
          "execution_count": 8
        }
      ]
    },
    {
      "cell_type": "code",
      "metadata": {
        "id": "Pe5BxwPVz2lv",
        "colab_type": "code",
        "colab": {}
      },
      "source": [
        "apple_data=os.listdir('/content/color/Apple___Apple_scab')"
      ],
      "execution_count": 9,
      "outputs": []
    },
    {
      "cell_type": "code",
      "metadata": {
        "id": "LP4YUA5gz5Cn",
        "colab_type": "code",
        "colab": {
          "base_uri": "https://localhost:8080/",
          "height": 35
        },
        "outputId": "1ae6cb69-4bb7-4518-baae-410e2c35aeee"
      },
      "source": [
        "len(apple_data)"
      ],
      "execution_count": 10,
      "outputs": [
        {
          "output_type": "execute_result",
          "data": {
            "text/plain": [
              "630"
            ]
          },
          "metadata": {
            "tags": []
          },
          "execution_count": 10
        }
      ]
    },
    {
      "cell_type": "code",
      "metadata": {
        "id": "kuGONLeRz7aQ",
        "colab_type": "code",
        "colab": {}
      },
      "source": [
        "image_paths=[]\n",
        "for i in apple_data:\n",
        "  image_paths.append(os.path.join('/content/color/Apple___Apple_scab',i))"
      ],
      "execution_count": 11,
      "outputs": []
    },
    {
      "cell_type": "code",
      "metadata": {
        "id": "R_MZuFRTz9iR",
        "colab_type": "code",
        "colab": {
          "base_uri": "https://localhost:8080/",
          "height": 36
        },
        "outputId": "aef08c78-deaf-4b6b-af11-41edb8e5cc1e"
      },
      "source": [
        "image_paths[1]"
      ],
      "execution_count": 12,
      "outputs": [
        {
          "output_type": "execute_result",
          "data": {
            "application/vnd.google.colaboratory.intrinsic+json": {
              "type": "string"
            },
            "text/plain": [
              "'/content/color/Apple___Apple_scab/f1017472-d391-4a66-b9b2-d52916cd0c0b___FREC_Scab 3176.JPG'"
            ]
          },
          "metadata": {
            "tags": []
          },
          "execution_count": 12
        }
      ]
    },
    {
      "cell_type": "code",
      "metadata": {
        "id": "aMDyoyXC0AVA",
        "colab_type": "code",
        "colab": {}
      },
      "source": [
        "img=plt.imread(image_paths[1])"
      ],
      "execution_count": 13,
      "outputs": []
    },
    {
      "cell_type": "code",
      "metadata": {
        "id": "7gWqQNtp0C-4",
        "colab_type": "code",
        "colab": {}
      },
      "source": [
        "dataset=os.listdir('/content/color')"
      ],
      "execution_count": 14,
      "outputs": []
    },
    {
      "cell_type": "code",
      "metadata": {
        "id": "DpJNnTJn0GAv",
        "colab_type": "code",
        "colab": {
          "base_uri": "https://localhost:8080/",
          "height": 35
        },
        "outputId": "16c639c0-4a30-4450-f460-3353cfdde1eb"
      },
      "source": [
        "\n",
        "len(dataset)"
      ],
      "execution_count": 15,
      "outputs": [
        {
          "output_type": "execute_result",
          "data": {
            "text/plain": [
              "38"
            ]
          },
          "metadata": {
            "tags": []
          },
          "execution_count": 15
        }
      ]
    },
    {
      "cell_type": "code",
      "metadata": {
        "id": "g6rrljc10JCY",
        "colab_type": "code",
        "colab": {}
      },
      "source": [
        "num_label=0\n",
        "for example in dataset:\n",
        "  num_label+=1"
      ],
      "execution_count": 16,
      "outputs": []
    },
    {
      "cell_type": "code",
      "metadata": {
        "id": "YD6XIDdN0Log",
        "colab_type": "code",
        "colab": {
          "base_uri": "https://localhost:8080/",
          "height": 35
        },
        "outputId": "1ff45ea3-9aaf-4938-9ef9-431ac425f05f"
      },
      "source": [
        "num_label"
      ],
      "execution_count": 17,
      "outputs": [
        {
          "output_type": "execute_result",
          "data": {
            "text/plain": [
              "38"
            ]
          },
          "metadata": {
            "tags": []
          },
          "execution_count": 17
        }
      ]
    },
    {
      "cell_type": "code",
      "metadata": {
        "id": "ZgUmRYMg0OMt",
        "colab_type": "code",
        "colab": {
          "base_uri": "https://localhost:8080/",
          "height": 35
        },
        "outputId": "46c27bf6-4f25-4f01-9e5e-c016a1285c6e"
      },
      "source": [
        "base_dir=os.listdir('/content/color')\n",
        "len(base_dir)"
      ],
      "execution_count": 18,
      "outputs": [
        {
          "output_type": "execute_result",
          "data": {
            "text/plain": [
              "38"
            ]
          },
          "metadata": {
            "tags": []
          },
          "execution_count": 18
        }
      ]
    },
    {
      "cell_type": "code",
      "metadata": {
        "id": "tReIz1yt0Q0C",
        "colab_type": "code",
        "colab": {}
      },
      "source": [
        "classes=['Apple___Apple_scab','Apple___Black_rot','Apple___Cedar_apple_rust','Apple___healthy','Blueberry___healthy','Cherry_(including_sour)___Powdery_mildew','Cherry_(including_sour)___healthy','Corn_(maize)___Cercospora_leaf_spot Gray_leaf_spot','Corn_(maize)___Common_rust_','Corn_(maize)___Northern_Leaf_Blight','Corn_(maize)___healthy','Grape___Black_rot','Grape___Esca_(Black_Measles)','Grape___Leaf_blight_(Isariopsis_Leaf_Spot)','Grape___healthy','Orange___Haunglongbing_(Citrus_greening)','Peach___Bacterial_spot','Peach___healthy','Pepper,_bell___Bacterial_spot','Pepper,_bell___healthy','Potato___Early_blight','Potato___Late_blight','Potato___healthy','Raspberry___healthy','Soybean___healthy','Squash___Powdery_mildew','Strawberry___Leaf_scorch','Strawberry___healthy','Tomato___Bacterial_spot','Tomato___Early_blight','Tomato___Late_blight','Tomato___Leaf_Mold','Tomato___Septoria_leaf_spot','Tomato___Spider_mites Two-spotted_spider_mite','Tomato___Target_Spot','Tomato___Tomato_Yellow_Leaf_Curl_Virus','Tomato___Tomato_mosaic_virus','Tomato___healthy']"
      ],
      "execution_count": 19,
      "outputs": []
    },
    {
      "cell_type": "code",
      "metadata": {
        "id": "ag8l-SFO0UI4",
        "colab_type": "code",
        "colab": {
          "base_uri": "https://localhost:8080/",
          "height": 35
        },
        "outputId": "cf3d6bec-a0bd-4808-d286-53c04246f144"
      },
      "source": [
        "len(classes)"
      ],
      "execution_count": 20,
      "outputs": [
        {
          "output_type": "execute_result",
          "data": {
            "text/plain": [
              "38"
            ]
          },
          "metadata": {
            "tags": []
          },
          "execution_count": 20
        }
      ]
    },
    {
      "cell_type": "code",
      "metadata": {
        "id": "QjSaudSv0WYY",
        "colab_type": "code",
        "colab": {
          "base_uri": "https://localhost:8080/",
          "height": 692
        },
        "outputId": "e02641ab-f41d-45f6-a40f-65a82adaa7f5"
      },
      "source": [
        "project_path='/content/color'\n",
        "for cl in classes:\n",
        "  images = glob.glob('/content/color'+'/'+cl+'/*.JPG')\n",
        "  print(\"{}: {} Images\".format(cl, len(images)))\n",
        "  train, val = images[:round(len(images)*0.75)],images[round(len(images)*0.75):]\n",
        "  \n",
        "  for t in train:\n",
        "    if not os.path.exists(os.path.join(project_path, 'train', cl)):\n",
        "      os.makedirs(os.path.join(project_path, 'train', cl))\n",
        "    shutil.move(t, os.path.join(project_path, 'train', cl))\n",
        "\n",
        "  for v in val:\n",
        "    if not os.path.exists(os.path.join(project_path, 'val', cl)):\n",
        "      os.makedirs(os.path.join(project_path, 'val', cl))\n",
        "    shutil.move(v, os.path.join(project_path, 'val', cl))"
      ],
      "execution_count": 21,
      "outputs": [
        {
          "output_type": "stream",
          "text": [
            "Apple___Apple_scab: 630 Images\n",
            "Apple___Black_rot: 621 Images\n",
            "Apple___Cedar_apple_rust: 275 Images\n",
            "Apple___healthy: 1645 Images\n",
            "Blueberry___healthy: 1502 Images\n",
            "Cherry_(including_sour)___Powdery_mildew: 1052 Images\n",
            "Cherry_(including_sour)___healthy: 854 Images\n",
            "Corn_(maize)___Cercospora_leaf_spot Gray_leaf_spot: 446 Images\n",
            "Corn_(maize)___Common_rust_: 1192 Images\n",
            "Corn_(maize)___Northern_Leaf_Blight: 870 Images\n",
            "Corn_(maize)___healthy: 21 Images\n",
            "Grape___Black_rot: 1180 Images\n",
            "Grape___Esca_(Black_Measles): 1383 Images\n",
            "Grape___Leaf_blight_(Isariopsis_Leaf_Spot): 1076 Images\n",
            "Grape___healthy: 423 Images\n",
            "Orange___Haunglongbing_(Citrus_greening): 5507 Images\n",
            "Peach___Bacterial_spot: 2297 Images\n",
            "Peach___healthy: 360 Images\n",
            "Pepper,_bell___Bacterial_spot: 997 Images\n",
            "Pepper,_bell___healthy: 1476 Images\n",
            "Potato___Early_blight: 1000 Images\n",
            "Potato___Late_blight: 1000 Images\n",
            "Potato___healthy: 152 Images\n",
            "Raspberry___healthy: 371 Images\n",
            "Soybean___healthy: 5090 Images\n",
            "Squash___Powdery_mildew: 1813 Images\n",
            "Strawberry___Leaf_scorch: 1108 Images\n",
            "Strawberry___healthy: 456 Images\n",
            "Tomato___Bacterial_spot: 2127 Images\n",
            "Tomato___Early_blight: 1000 Images\n",
            "Tomato___Late_blight: 1756 Images\n",
            "Tomato___Leaf_Mold: 952 Images\n",
            "Tomato___Septoria_leaf_spot: 1771 Images\n",
            "Tomato___Spider_mites Two-spotted_spider_mite: 1676 Images\n",
            "Tomato___Target_Spot: 1404 Images\n",
            "Tomato___Tomato_Yellow_Leaf_Curl_Virus: 5357 Images\n",
            "Tomato___Tomato_mosaic_virus: 373 Images\n",
            "Tomato___healthy: 1590 Images\n"
          ],
          "name": "stdout"
        }
      ]
    },
    {
      "cell_type": "code",
      "metadata": {
        "id": "PcEEtebZ0YiH",
        "colab_type": "code",
        "colab": {}
      },
      "source": [
        "train_dir=os.listdir('/content/color/train')\n",
        "val_dir=os.listdir('/content/color/val')"
      ],
      "execution_count": 22,
      "outputs": []
    },
    {
      "cell_type": "code",
      "metadata": {
        "id": "BMhWLoGG0b4x",
        "colab_type": "code",
        "colab": {
          "base_uri": "https://localhost:8080/",
          "height": 35
        },
        "outputId": "c0838880-0e28-438e-938c-3ad317cbece9"
      },
      "source": [
        "len(train_dir)\n",
        "len(val_dir)"
      ],
      "execution_count": 23,
      "outputs": [
        {
          "output_type": "execute_result",
          "data": {
            "text/plain": [
              "38"
            ]
          },
          "metadata": {
            "tags": []
          },
          "execution_count": 23
        }
      ]
    },
    {
      "cell_type": "code",
      "metadata": {
        "id": "VIOm326v0eDG",
        "colab_type": "code",
        "colab": {}
      },
      "source": [
        "IMG_SHAPE=256\n",
        "BATCH_SIZE=32"
      ],
      "execution_count": 24,
      "outputs": []
    },
    {
      "cell_type": "code",
      "metadata": {
        "id": "IvymQUzb0il-",
        "colab_type": "code",
        "colab": {}
      },
      "source": [
        "from tensorflow.keras.preprocessing.image import ImageDataGenerator\n",
        "train_image_generator=ImageDataGenerator(rescale=1./255)\n",
        "validation_image_generator=ImageDataGenerator(rescale=1./255)"
      ],
      "execution_count": 25,
      "outputs": []
    },
    {
      "cell_type": "code",
      "metadata": {
        "id": "eW74NImS0lM1",
        "colab_type": "code",
        "colab": {
          "base_uri": "https://localhost:8080/",
          "height": 35
        },
        "outputId": "4d17379d-8d42-4820-b9e4-5b3e6ed53691"
      },
      "source": [
        "train_data_gen = train_image_generator.flow_from_directory(batch_size=BATCH_SIZE,\n",
        "        directory='/content/color/train',\n",
        "        shuffle=True,\n",
        "        target_size=(IMG_SHAPE,IMG_SHAPE),\n",
        "        class_mode='sparse')"
      ],
      "execution_count": 26,
      "outputs": [
        {
          "output_type": "stream",
          "text": [
            "Found 39600 images belonging to 38 classes.\n"
          ],
          "name": "stdout"
        }
      ]
    },
    {
      "cell_type": "code",
      "metadata": {
        "id": "Vr6y5TMt0tds",
        "colab_type": "code",
        "colab": {
          "base_uri": "https://localhost:8080/",
          "height": 35
        },
        "outputId": "89c8e5e0-8ecc-4de5-8f13-5b10ea61d343"
      },
      "source": [
        "val_data_gen = validation_image_generator.flow_from_directory(batch_size=BATCH_SIZE,\n",
        "        directory='/content/color/val',\n",
        "        shuffle=False,\n",
        "        target_size=(IMG_SHAPE,IMG_SHAPE),\n",
        "        class_mode='sparse')"
      ],
      "execution_count": 27,
      "outputs": [
        {
          "output_type": "stream",
          "text": [
            "Found 13203 images belonging to 38 classes.\n"
          ],
          "name": "stdout"
        }
      ]
    },
    {
      "cell_type": "code",
      "metadata": {
        "id": "qdYn3yB50zGr",
        "colab_type": "code",
        "colab": {
          "base_uri": "https://localhost:8080/",
          "height": 36
        },
        "outputId": "cb0ad26c-8cec-4f24-8921-32d99a3b0989"
      },
      "source": [
        "train_dir[0]"
      ],
      "execution_count": 28,
      "outputs": [
        {
          "output_type": "execute_result",
          "data": {
            "application/vnd.google.colaboratory.intrinsic+json": {
              "type": "string"
            },
            "text/plain": [
              "'Grape___healthy'"
            ]
          },
          "metadata": {
            "tags": []
          },
          "execution_count": 28
        }
      ]
    },
    {
      "cell_type": "code",
      "metadata": {
        "id": "cRtaS9OJ01Os",
        "colab_type": "code",
        "colab": {}
      },
      "source": [
        "URL = \"https://tfhub.dev/google/tf2-preview/inception_v3/feature_vector/4\"\n",
        "feature_extractor = hub.KerasLayer(URL,\n",
        "input_shape=(IMG_SHAPE, IMG_SHAPE, 3))"
      ],
      "execution_count": 29,
      "outputs": []
    },
    {
      "cell_type": "code",
      "metadata": {
        "id": "gSnXG7na04Vf",
        "colab_type": "code",
        "colab": {}
      },
      "source": [
        "feature_extractor.trainable=False"
      ],
      "execution_count": 30,
      "outputs": []
    },
    {
      "cell_type": "code",
      "metadata": {
        "id": "QSgK5fjM0724",
        "colab_type": "code",
        "colab": {}
      },
      "source": [
        "model=tf.keras.Sequential([\n",
        "    feature_extractor,\n",
        "    tf.keras.layers.Dense(38,activation='softmax')\n",
        "])"
      ],
      "execution_count": 31,
      "outputs": []
    },
    {
      "cell_type": "code",
      "metadata": {
        "id": "D8-rEfYg0-Kr",
        "colab_type": "code",
        "colab": {
          "base_uri": "https://localhost:8080/",
          "height": 230
        },
        "outputId": "b198f423-ddfe-4571-c875-9bc01b813192"
      },
      "source": [
        "model.summary()"
      ],
      "execution_count": 32,
      "outputs": [
        {
          "output_type": "stream",
          "text": [
            "Model: \"sequential\"\n",
            "_________________________________________________________________\n",
            "Layer (type)                 Output Shape              Param #   \n",
            "=================================================================\n",
            "keras_layer (KerasLayer)     (None, 2048)              21802784  \n",
            "_________________________________________________________________\n",
            "dense (Dense)                (None, 38)                77862     \n",
            "=================================================================\n",
            "Total params: 21,880,646\n",
            "Trainable params: 77,862\n",
            "Non-trainable params: 21,802,784\n",
            "_________________________________________________________________\n"
          ],
          "name": "stdout"
        }
      ]
    },
    {
      "cell_type": "code",
      "metadata": {
        "id": "8ai-xDjW1BFE",
        "colab_type": "code",
        "colab": {}
      },
      "source": [
        "model.compile(\n",
        "      optimizer='adam',\n",
        "      loss='sparse_categorical_crossentropy',\n",
        "      metrics=['accuracy'])"
      ],
      "execution_count": 33,
      "outputs": []
    },
    {
      "cell_type": "code",
      "metadata": {
        "id": "TIdewTsU1DwR",
        "colab_type": "code",
        "colab": {
          "base_uri": "https://localhost:8080/",
          "height": 230
        },
        "outputId": "e18571fe-e997-450f-bc3f-de35206a474a"
      },
      "source": [
        "EPOCHS=6\n",
        "history=model.fit_generator(\n",
        "                   train_data_gen,\n",
        "                   epochs=EPOCHS,\n",
        "                   validation_data=val_data_gen)"
      ],
      "execution_count": 34,
      "outputs": [
        {
          "output_type": "stream",
          "text": [
            "Epoch 1/6\n",
            "1238/1238 [==============================] - 151s 122ms/step - loss: 0.6310 - accuracy: 0.8303 - val_loss: 0.3514 - val_accuracy: 0.8941\n",
            "Epoch 2/6\n",
            "1238/1238 [==============================] - 151s 122ms/step - loss: 0.2682 - accuracy: 0.9202 - val_loss: 0.2951 - val_accuracy: 0.9079\n",
            "Epoch 3/6\n",
            "1238/1238 [==============================] - 150s 121ms/step - loss: 0.2036 - accuracy: 0.9381 - val_loss: 0.2477 - val_accuracy: 0.9228\n",
            "Epoch 4/6\n",
            "1238/1238 [==============================] - 150s 121ms/step - loss: 0.1659 - accuracy: 0.9493 - val_loss: 0.2400 - val_accuracy: 0.9218\n",
            "Epoch 5/6\n",
            "1238/1238 [==============================] - 150s 122ms/step - loss: 0.1402 - accuracy: 0.9568 - val_loss: 0.2244 - val_accuracy: 0.9288\n",
            "Epoch 6/6\n",
            "1238/1238 [==============================] - 150s 121ms/step - loss: 0.1227 - accuracy: 0.9616 - val_loss: 0.2433 - val_accuracy: 0.9225\n"
          ],
          "name": "stdout"
        }
      ]
    },
    {
      "cell_type": "code",
      "metadata": {
        "id": "3E7RC8rp1H85",
        "colab_type": "code",
        "colab": {
          "base_uri": "https://localhost:8080/",
          "height": 499
        },
        "outputId": "eb661d6e-0709-4e74-8fb8-19ed068ec9fd"
      },
      "source": [
        "acc = history.history['accuracy']\n",
        "val_acc = history.history['val_accuracy']\n",
        "\n",
        "loss = history.history['loss']\n",
        "val_loss = history.history['val_loss']\n",
        "\n",
        "epochs_range = range(EPOCHS)\n",
        "\n",
        "plt.figure(figsize=(8, 8))\n",
        "plt.subplot(1, 2, 1)\n",
        "plt.plot(epochs_range, acc, label='Training Accuracy')\n",
        "plt.plot(epochs_range, val_acc, label='Validation Accuracy')\n",
        "plt.legend(loc='lower right')\n",
        "plt.title('Training and Validation Accuracy')\n",
        "\n",
        "plt.subplot(1, 2, 2)\n",
        "plt.plot(epochs_range, loss, label='Training Loss')\n",
        "plt.plot(epochs_range, val_loss, label='Validation Loss')\n",
        "plt.legend(loc='upper right')\n",
        "plt.title('Training and Validation Loss')\n",
        "plt.show()"
      ],
      "execution_count": 36,
      "outputs": [
        {
          "output_type": "display_data",
          "data": {
            "image/png": "[encoded data removed]",
            "text/plain": [
              "<Figure size 576x576 with 2 Axes>"
            ]
          },
          "metadata": {
            "tags": [],
            "needs_background": "light"
          }
        }
      ]
    },
    {
      "cell_type": "code",
      "metadata": {
        "id": "DGChpBIL47TM",
        "colab_type": "code",
        "colab": {}
      },
      "source": [
        ""
      ],
      "execution_count": null,
      "outputs": []
    }
  ]
}